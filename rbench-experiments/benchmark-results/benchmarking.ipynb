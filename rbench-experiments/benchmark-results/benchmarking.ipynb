{
 "cells": [
  {
   "cell_type": "markdown",
   "id": "c90d6de2",
   "metadata": {},
   "source": [
    "### f4 vs f5 vs groebner\n",
    "\n",
    "11/17/2022\n",
    "\n",
    "We benchmark for `psl` and for `boot` with 60 and 10 minutes maximum runtime cutoff respectively. \n",
    "\n",
    "Here, we only present benchmark results for `boot`; results for `psl` are similar."
   ]
  },
  {
   "cell_type": "markdown",
   "id": "983a409d",
   "metadata": {},
   "source": [
    "#### Imports"
   ]
  },
  {
   "cell_type": "code",
   "execution_count": 142,
   "id": "21324f20",
   "metadata": {},
   "outputs": [],
   "source": [
    "import matplotlib.pyplot as plt\n",
    "import numpy as np\n",
    "import pandas as pd\n",
    "import os\n",
    "import sys"
   ]
  },
  {
   "cell_type": "code",
   "execution_count": 143,
   "id": "439f91eb",
   "metadata": {},
   "outputs": [],
   "source": [
    "# don't look at that :)\n",
    "import pandas as pd\n",
    "sys.path.append('/home/ademin/reduce3/reduce-algebra-code/generic/rbench')\n",
    "import rbench as rb"
   ]
  },
  {
   "cell_type": "markdown",
   "id": "cd67e53b",
   "metadata": {},
   "source": [
    "### Loading data"
   ]
  },
  {
   "cell_type": "code",
   "execution_count": 155,
   "id": "d5f53250",
   "metadata": {},
   "outputs": [],
   "source": [
    "f4 = rb.read_filetree('./f4/2022-11-17-10mn-boot/', 'f4').select('boot').deselect(['heapsize', 'valid'])\n",
    "f5 = rb.read_filetree('./f5/2022-11-17-10mn-boot/', 'f5').select('boot').deselect(['heapsize', 'valid'])\n",
    "groebner = rb.read_filetree('./groebner/2022-11-17-10mn-boot/', 'groebner').select('boot').deselect(['heapsize', 'valid'])"
   ]
  },
  {
   "cell_type": "code",
   "execution_count": 157,
   "id": "4922b835",
   "metadata": {},
   "outputs": [],
   "source": [
    "combo = f4.join(f5, how='inner').join(groebner, how='inner')"
   ]
  },
  {
   "cell_type": "code",
   "execution_count": 158,
   "id": "f04b5c56",
   "metadata": {},
   "outputs": [
    {
     "data": {
      "text/html": [
       "<div>\n",
       "<style scoped>\n",
       "    .dataframe tbody tr th:only-of-type {\n",
       "        vertical-align: middle;\n",
       "    }\n",
       "\n",
       "    .dataframe tbody tr th {\n",
       "        vertical-align: top;\n",
       "    }\n",
       "\n",
       "    .dataframe thead tr th {\n",
       "        text-align: left;\n",
       "    }\n",
       "</style>\n",
       "<table border=\"1\" class=\"dataframe\">\n",
       "  <thead>\n",
       "    <tr>\n",
       "      <th></th>\n",
       "      <th colspan=\"5\" halign=\"left\">f4</th>\n",
       "      <th colspan=\"5\" halign=\"left\">f5</th>\n",
       "      <th colspan=\"5\" halign=\"left\">groebner</th>\n",
       "    </tr>\n",
       "    <tr>\n",
       "      <th></th>\n",
       "      <th>start_boot</th>\n",
       "      <th>cpu_boot</th>\n",
       "      <th>gc_boot</th>\n",
       "      <th>sigxcpu_boot</th>\n",
       "      <th>end_boot</th>\n",
       "      <th>start_boot</th>\n",
       "      <th>cpu_boot</th>\n",
       "      <th>gc_boot</th>\n",
       "      <th>sigxcpu_boot</th>\n",
       "      <th>end_boot</th>\n",
       "      <th>start_boot</th>\n",
       "      <th>cpu_boot</th>\n",
       "      <th>gc_boot</th>\n",
       "      <th>sigxcpu_boot</th>\n",
       "      <th>end_boot</th>\n",
       "    </tr>\n",
       "  </thead>\n",
       "  <tbody>\n",
       "    <tr>\n",
       "      <th>biomodels/BIOMD0000000002</th>\n",
       "      <td>2022-11-17 20:47:26+01:00</td>\n",
       "      <td>2.44</td>\n",
       "      <td>0.00</td>\n",
       "      <td>NaN</td>\n",
       "      <td>2022-11-17 20:47:28+01:00</td>\n",
       "      <td>2022-11-17 20:50:41+01:00</td>\n",
       "      <td>0.17</td>\n",
       "      <td>0.02</td>\n",
       "      <td>NaN</td>\n",
       "      <td>2022-11-17 20:50:42+01:00</td>\n",
       "      <td>2022-11-17 20:51:10+01:00</td>\n",
       "      <td>1.20</td>\n",
       "      <td>0.00</td>\n",
       "      <td>NaN</td>\n",
       "      <td>2022-11-17 20:51:11+01:00</td>\n",
       "    </tr>\n",
       "    <tr>\n",
       "      <th>biomodels/BIOMD0000000003</th>\n",
       "      <td>2022-11-17 20:46:59+01:00</td>\n",
       "      <td>0.01</td>\n",
       "      <td>0.00</td>\n",
       "      <td>NaN</td>\n",
       "      <td>2022-11-17 20:46:59+01:00</td>\n",
       "      <td>2022-11-17 20:49:12+01:00</td>\n",
       "      <td>0.01</td>\n",
       "      <td>0.01</td>\n",
       "      <td>NaN</td>\n",
       "      <td>2022-11-17 20:49:12+01:00</td>\n",
       "      <td>2022-11-17 20:57:23+01:00</td>\n",
       "      <td>0.01</td>\n",
       "      <td>0.00</td>\n",
       "      <td>NaN</td>\n",
       "      <td>2022-11-17 20:57:23+01:00</td>\n",
       "    </tr>\n",
       "    <tr>\n",
       "      <th>biomodels/BIOMD0000000006</th>\n",
       "      <td>2022-11-17 20:47:25+01:00</td>\n",
       "      <td>0.01</td>\n",
       "      <td>0.00</td>\n",
       "      <td>NaN</td>\n",
       "      <td>2022-11-17 20:47:26+01:00</td>\n",
       "      <td>2022-11-17 20:50:40+01:00</td>\n",
       "      <td>0.00</td>\n",
       "      <td>0.01</td>\n",
       "      <td>NaN</td>\n",
       "      <td>2022-11-17 20:50:41+01:00</td>\n",
       "      <td>2022-11-17 20:51:12+01:00</td>\n",
       "      <td>0.00</td>\n",
       "      <td>0.00</td>\n",
       "      <td>NaN</td>\n",
       "      <td>2022-11-17 20:51:13+01:00</td>\n",
       "    </tr>\n",
       "    <tr>\n",
       "      <th>biomodels/BIOMD0000000024</th>\n",
       "      <td>2022-11-17 20:47:30+01:00</td>\n",
       "      <td>0.00</td>\n",
       "      <td>0.02</td>\n",
       "      <td>NaN</td>\n",
       "      <td>2022-11-17 20:47:30+01:00</td>\n",
       "      <td>2022-11-17 20:54:18+01:00</td>\n",
       "      <td>0.01</td>\n",
       "      <td>0.01</td>\n",
       "      <td>NaN</td>\n",
       "      <td>2022-11-17 20:54:18+01:00</td>\n",
       "      <td>2022-11-17 20:50:11+01:00</td>\n",
       "      <td>0.00</td>\n",
       "      <td>0.01</td>\n",
       "      <td>NaN</td>\n",
       "      <td>2022-11-17 20:50:11+01:00</td>\n",
       "    </tr>\n",
       "    <tr>\n",
       "      <th>biomodels/BIOMD0000000026</th>\n",
       "      <td>2022-11-17 20:46:42+01:00</td>\n",
       "      <td>0.03</td>\n",
       "      <td>0.01</td>\n",
       "      <td>NaN</td>\n",
       "      <td>2022-11-17 20:46:42+01:00</td>\n",
       "      <td>2022-11-17 20:47:36+01:00</td>\n",
       "      <td>0.02</td>\n",
       "      <td>0.01</td>\n",
       "      <td>NaN</td>\n",
       "      <td>2022-11-17 20:47:36+01:00</td>\n",
       "      <td>2022-11-17 20:57:34+01:00</td>\n",
       "      <td>0.02</td>\n",
       "      <td>0.00</td>\n",
       "      <td>NaN</td>\n",
       "      <td>2022-11-17 20:57:34+01:00</td>\n",
       "    </tr>\n",
       "  </tbody>\n",
       "</table>\n",
       "</div>"
      ],
      "text/plain": [
       "                                                 f4                   \\\n",
       "                                         start_boot cpu_boot gc_boot   \n",
       "biomodels/BIOMD0000000002 2022-11-17 20:47:26+01:00     2.44    0.00   \n",
       "biomodels/BIOMD0000000003 2022-11-17 20:46:59+01:00     0.01    0.00   \n",
       "biomodels/BIOMD0000000006 2022-11-17 20:47:25+01:00     0.01    0.00   \n",
       "biomodels/BIOMD0000000024 2022-11-17 20:47:30+01:00     0.00    0.02   \n",
       "biomodels/BIOMD0000000026 2022-11-17 20:46:42+01:00     0.03    0.01   \n",
       "\n",
       "                                                                  \\\n",
       "                          sigxcpu_boot                  end_boot   \n",
       "biomodels/BIOMD0000000002          NaN 2022-11-17 20:47:28+01:00   \n",
       "biomodels/BIOMD0000000003          NaN 2022-11-17 20:46:59+01:00   \n",
       "biomodels/BIOMD0000000006          NaN 2022-11-17 20:47:26+01:00   \n",
       "biomodels/BIOMD0000000024          NaN 2022-11-17 20:47:30+01:00   \n",
       "biomodels/BIOMD0000000026          NaN 2022-11-17 20:46:42+01:00   \n",
       "\n",
       "                                                 f5                   \\\n",
       "                                         start_boot cpu_boot gc_boot   \n",
       "biomodels/BIOMD0000000002 2022-11-17 20:50:41+01:00     0.17    0.02   \n",
       "biomodels/BIOMD0000000003 2022-11-17 20:49:12+01:00     0.01    0.01   \n",
       "biomodels/BIOMD0000000006 2022-11-17 20:50:40+01:00     0.00    0.01   \n",
       "biomodels/BIOMD0000000024 2022-11-17 20:54:18+01:00     0.01    0.01   \n",
       "biomodels/BIOMD0000000026 2022-11-17 20:47:36+01:00     0.02    0.01   \n",
       "\n",
       "                                                                  \\\n",
       "                          sigxcpu_boot                  end_boot   \n",
       "biomodels/BIOMD0000000002          NaN 2022-11-17 20:50:42+01:00   \n",
       "biomodels/BIOMD0000000003          NaN 2022-11-17 20:49:12+01:00   \n",
       "biomodels/BIOMD0000000006          NaN 2022-11-17 20:50:41+01:00   \n",
       "biomodels/BIOMD0000000024          NaN 2022-11-17 20:54:18+01:00   \n",
       "biomodels/BIOMD0000000026          NaN 2022-11-17 20:47:36+01:00   \n",
       "\n",
       "                                           groebner                   \\\n",
       "                                         start_boot cpu_boot gc_boot   \n",
       "biomodels/BIOMD0000000002 2022-11-17 20:51:10+01:00     1.20    0.00   \n",
       "biomodels/BIOMD0000000003 2022-11-17 20:57:23+01:00     0.01    0.00   \n",
       "biomodels/BIOMD0000000006 2022-11-17 20:51:12+01:00     0.00    0.00   \n",
       "biomodels/BIOMD0000000024 2022-11-17 20:50:11+01:00     0.00    0.01   \n",
       "biomodels/BIOMD0000000026 2022-11-17 20:57:34+01:00     0.02    0.00   \n",
       "\n",
       "                                                                  \n",
       "                          sigxcpu_boot                  end_boot  \n",
       "biomodels/BIOMD0000000002          NaN 2022-11-17 20:51:11+01:00  \n",
       "biomodels/BIOMD0000000003          NaN 2022-11-17 20:57:23+01:00  \n",
       "biomodels/BIOMD0000000006          NaN 2022-11-17 20:51:13+01:00  \n",
       "biomodels/BIOMD0000000024          NaN 2022-11-17 20:50:11+01:00  \n",
       "biomodels/BIOMD0000000026          NaN 2022-11-17 20:57:34+01:00  "
      ]
     },
     "execution_count": 158,
     "metadata": {},
     "output_type": "execute_result"
    }
   ],
   "source": [
    "combo.head()"
   ]
  },
  {
   "cell_type": "markdown",
   "id": "b736d5ac",
   "metadata": {},
   "source": [
    "Let's plot `f5` vs. `f4` and `groebner` vs. `f4`:"
   ]
  },
  {
   "cell_type": "code",
   "execution_count": 160,
   "id": "b3aed7d7",
   "metadata": {},
   "outputs": [],
   "source": [
    "import matplotlib\n",
    "matplotlib.rc('text', usetex=True)\n",
    "matplotlib.rcParams['text.latex.preamble']=r\"\\usepackage{amsmath}\"\n",
    "matplotlib.rc('xtick', labelsize=10) \n",
    "matplotlib.rc('ytick', labelsize=10)"
   ]
  },
  {
   "cell_type": "code",
   "execution_count": 163,
   "id": "88ca3323",
   "metadata": {},
   "outputs": [],
   "source": [
    "x1 = combo[('f4', 'cpu_boot')]\n",
    "y1 = combo[('f5', 'cpu_boot')]\n",
    "x2 = combo[('f4', 'cpu_boot')]\n",
    "y2 = combo[('groebner', 'cpu_boot')]"
   ]
  },
  {
   "cell_type": "code",
   "execution_count": 164,
   "id": "274a88c0",
   "metadata": {},
   "outputs": [
    {
     "data": {
      "image/png": "[encoded data removed]",
      "text/plain": [
       "<Figure size 1280x1280 with 2 Axes>"
      ]
     },
     "metadata": {
      "needs_background": "light"
     },
     "output_type": "display_data"
    }
   ],
   "source": [
    "fig = plt.figure(figsize=(10, 10), dpi=128)\n",
    "ax1 = fig.add_subplot(121)\n",
    "ax2 = fig.add_subplot(122)\n",
    "\n",
    "plt.subplots_adjust(wspace = 0.33 )\n",
    "\n",
    "scatter1 = ax1.scatter(x1, y1, c='#396b0b', alpha=0.6)\n",
    "scatter2 = ax2.scatter(x2, y2, c='#396b0b', alpha=0.6)\n",
    "\n",
    "ax1.set_xlabel(r'\\textbf{f4}')\n",
    "ax1.set_ylabel(r'\\textbf{f5}')\n",
    "ax2.set_xlabel(r'\\textbf{f4}')\n",
    "ax2.set_ylabel(r'\\textbf{groebner}')\n",
    "\n",
    "for ax in [ax1, ax2]:\n",
    "\n",
    "    ax.plot([0, 1000], [0, 1000], c='gray', linestyle='--', lw=2, alpha=0.7)\n",
    "\n",
    "    ax.set_yscale('log')\n",
    "    ax.set_xscale('log')\n",
    "    ax.set_aspect('equal')\n",
    "\n",
    "    ax.set_xmargin(0)\n",
    "    ax.set_ymargin(0)\n",
    "\n",
    "    ax.set_xlim(xmin=0.01,xmax=1000)\n",
    "    # only show 100 - 1600 on y-axis.\n",
    "    ax.set_ylim(ymin=0.01,ymax=1000)\n",
    "\n",
    "    ax.set_xticks([0.1, 10,  1000])\n",
    "    ax.set_yticks([0.1, 10,  1000])\n",
    "\n",
    "    # ax.set_xticks()\n",
    "    # ax.set_yticks()\n",
    "\n",
    "    ax.grid(True, alpha=0.3, c='gray')\n",
    "\n",
    "plt.show()"
   ]
  },
  {
   "cell_type": "markdown",
   "id": "50b52d39",
   "metadata": {},
   "source": [
    "Not very decisive.. "
   ]
  },
  {
   "cell_type": "markdown",
   "id": "4568faa6",
   "metadata": {},
   "source": [
    "### Looking at the tables"
   ]
  },
  {
   "cell_type": "markdown",
   "id": "613088f8",
   "metadata": {},
   "source": [
    "Out of models that took **more than 0.1 seconds** to compute (46 models in total),\n",
    "\n",
    "- 45 were computed in time with `f4`,\n",
    "- 36 with `f5`,\n",
    "- and 38 with `groebner`."
   ]
  },
  {
   "cell_type": "code",
   "execution_count": 184,
   "id": "64fd56ff",
   "metadata": {},
   "outputs": [
    {
     "data": {
      "text/html": [
       "<div>\n",
       "<style scoped>\n",
       "    .dataframe tbody tr th:only-of-type {\n",
       "        vertical-align: middle;\n",
       "    }\n",
       "\n",
       "    .dataframe tbody tr th {\n",
       "        vertical-align: top;\n",
       "    }\n",
       "\n",
       "    .dataframe thead tr th {\n",
       "        text-align: left;\n",
       "    }\n",
       "</style>\n",
       "<table border=\"1\" class=\"dataframe\">\n",
       "  <thead>\n",
       "    <tr>\n",
       "      <th></th>\n",
       "      <th>f4</th>\n",
       "      <th>f5</th>\n",
       "      <th>groebner</th>\n",
       "    </tr>\n",
       "    <tr>\n",
       "      <th></th>\n",
       "      <th>cpu_boot</th>\n",
       "      <th>cpu_boot</th>\n",
       "      <th>cpu_boot</th>\n",
       "    </tr>\n",
       "  </thead>\n",
       "  <tbody>\n",
       "    <tr>\n",
       "      <th>count</th>\n",
       "      <td>45.000000</td>\n",
       "      <td>37.000000</td>\n",
       "      <td>38.000000</td>\n",
       "    </tr>\n",
       "    <tr>\n",
       "      <th>mean</th>\n",
       "      <td>33.373556</td>\n",
       "      <td>30.985135</td>\n",
       "      <td>19.558947</td>\n",
       "    </tr>\n",
       "    <tr>\n",
       "      <th>std</th>\n",
       "      <td>76.526804</td>\n",
       "      <td>84.879591</td>\n",
       "      <td>46.436326</td>\n",
       "    </tr>\n",
       "    <tr>\n",
       "      <th>min</th>\n",
       "      <td>0.010000</td>\n",
       "      <td>0.010000</td>\n",
       "      <td>0.010000</td>\n",
       "    </tr>\n",
       "    <tr>\n",
       "      <th>25%</th>\n",
       "      <td>0.180000</td>\n",
       "      <td>0.060000</td>\n",
       "      <td>0.180000</td>\n",
       "    </tr>\n",
       "    <tr>\n",
       "      <th>50%</th>\n",
       "      <td>2.330000</td>\n",
       "      <td>0.450000</td>\n",
       "      <td>1.305000</td>\n",
       "    </tr>\n",
       "    <tr>\n",
       "      <th>75%</th>\n",
       "      <td>31.200000</td>\n",
       "      <td>8.600000</td>\n",
       "      <td>13.445000</td>\n",
       "    </tr>\n",
       "    <tr>\n",
       "      <th>max</th>\n",
       "      <td>403.310000</td>\n",
       "      <td>430.760000</td>\n",
       "      <td>221.780000</td>\n",
       "    </tr>\n",
       "  </tbody>\n",
       "</table>\n",
       "</div>"
      ],
      "text/plain": [
       "               f4          f5    groebner\n",
       "         cpu_boot    cpu_boot    cpu_boot\n",
       "count   45.000000   37.000000   38.000000\n",
       "mean    33.373556   30.985135   19.558947\n",
       "std     76.526804   84.879591   46.436326\n",
       "min      0.010000    0.010000    0.010000\n",
       "25%      0.180000    0.060000    0.180000\n",
       "50%      2.330000    0.450000    1.305000\n",
       "75%     31.200000    8.600000   13.445000\n",
       "max    403.310000  430.760000  221.780000"
      ]
     },
     "execution_count": 184,
     "metadata": {},
     "output_type": "execute_result"
    }
   ],
   "source": [
    "t = 0.1\n",
    "combo[(combo[(\"groebner\", \"cpu_boot\")] > t) | (combo[(\"f4\", \"cpu_boot\")] > t) | combo[(\"f4\", \"cpu_boot\")].isna()].select(\"cpu_boot\").deselect(\"sigxcpu_boot\").describe()"
   ]
  },
  {
   "cell_type": "markdown",
   "id": "77c96023",
   "metadata": {},
   "source": [
    "Let's look at overall runtimes of `f4` and `groebner`."
   ]
  },
  {
   "cell_type": "markdown",
   "id": "17d4f19b",
   "metadata": {},
   "source": [
    "Aggregating by models from `systemsolving` that were computed successfuly, \n",
    "\n",
    "- `f4` took 349 seconds in total,\n",
    "- `groebner` took 676 seconds in total.\n",
    "\n",
    "Besides, \n",
    "\n",
    "- `f4` computed successfuly all of the models,\n",
    "- `groebner` couldn't compute 3 models in time. "
   ]
  },
  {
   "cell_type": "code",
   "execution_count": 169,
   "id": "cd0f60d1",
   "metadata": {},
   "outputs": [],
   "source": [
    "df = combo.select(\"cpu_boot\").deselect(\"sigxcpu_boot\")[[\"f4\", \"groebner\"]]\n",
    "df_nona = df.dropna()\n",
    "\n",
    "interesting = [\"systemsolving/root9\", \"systemsolving/root10\", \"systemsolving/root11\", \n",
    "        \"systemsolving/cyclic5\", \"systemsolving/cyclic6\",\n",
    "        \"systemsolving/katsura6\", \"systemsolving/katsura7\",\n",
    "        \"systemsolving/noon5\", \"systemsolving/noon6\", \"systemsolving/noon7\", \"systemsolving/noon8\",\n",
    "        \"systemsolving/eco5\", \"systemsolving/eco7\", \"systemsolving/eco10\",\n",
    "        \"systemsolving/hairer2\", \"systemsolving/nbody4\", \"systemsolving/nbody5\", \n",
    "        \"systemsolving/henrion5\", \"systemsolving/henrion6\"]\n",
    "systemsolving = df.loc[interesting]\n",
    "systemsolving_nona = systemsolving.dropna();"
   ]
  },
  {
   "cell_type": "code",
   "execution_count": 176,
   "id": "8813af2e",
   "metadata": {},
   "outputs": [
    {
     "data": {
      "text/plain": [
       "f4        cpu_boot    349.14\n",
       "groebner  cpu_boot    676.52\n",
       "dtype: float64"
      ]
     },
     "execution_count": 176,
     "metadata": {},
     "output_type": "execute_result"
    }
   ],
   "source": [
    "systemsolving_nona.sum()"
   ]
  },
  {
   "cell_type": "markdown",
   "id": "41c97337",
   "metadata": {},
   "source": [
    "Aggregating by **all other models** that were computed successfuly, \n",
    "\n",
    "- `f4` took 109 seconds in total,\n",
    "- `groebner` took 68 seconds in total."
   ]
  },
  {
   "cell_type": "code",
   "execution_count": 177,
   "id": "5d080563",
   "metadata": {},
   "outputs": [
    {
     "data": {
      "text/plain": [
       "f4        cpu_boot    109.48\n",
       "groebner  cpu_boot     68.26\n",
       "dtype: float64"
      ]
     },
     "execution_count": 177,
     "metadata": {},
     "output_type": "execute_result"
    }
   ],
   "source": [
    "df_nona.sum() - systemsolving_nona.sum()"
   ]
  },
  {
   "cell_type": "markdown",
   "id": "41b4132a",
   "metadata": {
    "vscode": {
     "languageId": "python"
    }
   },
   "source": [
    "More detailed table of \"interesing\" models:"
   ]
  },
  {
   "cell_type": "code",
   "execution_count": 173,
   "id": "345bd669",
   "metadata": {},
   "outputs": [
    {
     "data": {
      "text/html": [
       "<div>\n",
       "<style scoped>\n",
       "    .dataframe tbody tr th:only-of-type {\n",
       "        vertical-align: middle;\n",
       "    }\n",
       "\n",
       "    .dataframe tbody tr th {\n",
       "        vertical-align: top;\n",
       "    }\n",
       "\n",
       "    .dataframe thead tr th {\n",
       "        text-align: left;\n",
       "    }\n",
       "</style>\n",
       "<table border=\"1\" class=\"dataframe\">\n",
       "  <thead>\n",
       "    <tr>\n",
       "      <th></th>\n",
       "      <th>f4</th>\n",
       "      <th>groebner</th>\n",
       "    </tr>\n",
       "    <tr>\n",
       "      <th></th>\n",
       "      <th>cpu_boot</th>\n",
       "      <th>cpu_boot</th>\n",
       "    </tr>\n",
       "  </thead>\n",
       "  <tbody>\n",
       "    <tr>\n",
       "      <th>systemsolving/root9</th>\n",
       "      <td>0.45</td>\n",
       "      <td>3.17</td>\n",
       "    </tr>\n",
       "    <tr>\n",
       "      <th>systemsolving/root10</th>\n",
       "      <td>1.39</td>\n",
       "      <td>19.24</td>\n",
       "    </tr>\n",
       "    <tr>\n",
       "      <th>systemsolving/root11</th>\n",
       "      <td>4.66</td>\n",
       "      <td>115.66</td>\n",
       "    </tr>\n",
       "    <tr>\n",
       "      <th>systemsolving/cyclic5</th>\n",
       "      <td>0.04</td>\n",
       "      <td>0.09</td>\n",
       "    </tr>\n",
       "    <tr>\n",
       "      <th>systemsolving/cyclic6</th>\n",
       "      <td>0.86</td>\n",
       "      <td>1.97</td>\n",
       "    </tr>\n",
       "    <tr>\n",
       "      <th>systemsolving/katsura6</th>\n",
       "      <td>2.33</td>\n",
       "      <td>3.50</td>\n",
       "    </tr>\n",
       "    <tr>\n",
       "      <th>systemsolving/katsura7</th>\n",
       "      <td>20.78</td>\n",
       "      <td>35.78</td>\n",
       "    </tr>\n",
       "    <tr>\n",
       "      <th>systemsolving/noon5</th>\n",
       "      <td>0.46</td>\n",
       "      <td>0.76</td>\n",
       "    </tr>\n",
       "    <tr>\n",
       "      <th>systemsolving/noon6</th>\n",
       "      <td>4.47</td>\n",
       "      <td>12.74</td>\n",
       "    </tr>\n",
       "    <tr>\n",
       "      <th>systemsolving/noon7</th>\n",
       "      <td>42.49</td>\n",
       "      <td>221.78</td>\n",
       "    </tr>\n",
       "    <tr>\n",
       "      <th>systemsolving/noon8</th>\n",
       "      <td>403.31</td>\n",
       "      <td>NaN</td>\n",
       "    </tr>\n",
       "    <tr>\n",
       "      <th>systemsolving/eco5</th>\n",
       "      <td>0.02</td>\n",
       "      <td>0.01</td>\n",
       "    </tr>\n",
       "    <tr>\n",
       "      <th>systemsolving/eco7</th>\n",
       "      <td>0.31</td>\n",
       "      <td>0.58</td>\n",
       "    </tr>\n",
       "    <tr>\n",
       "      <th>systemsolving/eco10</th>\n",
       "      <td>128.51</td>\n",
       "      <td>NaN</td>\n",
       "    </tr>\n",
       "    <tr>\n",
       "      <th>systemsolving/hairer2</th>\n",
       "      <td>290.86</td>\n",
       "      <td>NaN</td>\n",
       "    </tr>\n",
       "    <tr>\n",
       "      <th>systemsolving/nbody4</th>\n",
       "      <td>31.20</td>\n",
       "      <td>37.62</td>\n",
       "    </tr>\n",
       "    <tr>\n",
       "      <th>systemsolving/nbody5</th>\n",
       "      <td>76.33</td>\n",
       "      <td>53.99</td>\n",
       "    </tr>\n",
       "    <tr>\n",
       "      <th>systemsolving/henrion5</th>\n",
       "      <td>32.26</td>\n",
       "      <td>14.17</td>\n",
       "    </tr>\n",
       "    <tr>\n",
       "      <th>systemsolving/henrion6</th>\n",
       "      <td>131.09</td>\n",
       "      <td>155.46</td>\n",
       "    </tr>\n",
       "  </tbody>\n",
       "</table>\n",
       "</div>"
      ],
      "text/plain": [
       "                             f4 groebner\n",
       "                       cpu_boot cpu_boot\n",
       "systemsolving/root9        0.45     3.17\n",
       "systemsolving/root10       1.39    19.24\n",
       "systemsolving/root11       4.66   115.66\n",
       "systemsolving/cyclic5      0.04     0.09\n",
       "systemsolving/cyclic6      0.86     1.97\n",
       "systemsolving/katsura6     2.33     3.50\n",
       "systemsolving/katsura7    20.78    35.78\n",
       "systemsolving/noon5        0.46     0.76\n",
       "systemsolving/noon6        4.47    12.74\n",
       "systemsolving/noon7       42.49   221.78\n",
       "systemsolving/noon8      403.31      NaN\n",
       "systemsolving/eco5         0.02     0.01\n",
       "systemsolving/eco7         0.31     0.58\n",
       "systemsolving/eco10      128.51      NaN\n",
       "systemsolving/hairer2    290.86      NaN\n",
       "systemsolving/nbody4      31.20    37.62\n",
       "systemsolving/nbody5      76.33    53.99\n",
       "systemsolving/henrion5    32.26    14.17\n",
       "systemsolving/henrion6   131.09   155.46"
      ]
     },
     "execution_count": 173,
     "metadata": {},
     "output_type": "execute_result"
    }
   ],
   "source": [
    "systemsolving"
   ]
  },
  {
   "cell_type": "markdown",
   "id": "ab7f0c0b",
   "metadata": {},
   "source": [
    "### Сareful conclusions:\n",
    "\n"
   ]
  },
  {
   "cell_type": "markdown",
   "id": "d6785447",
   "metadata": {},
   "source": [
    "`f4` is better than `groebner` on our benchmark; \n",
    "\n",
    "- `f4` total runtime is less by a factor of two,\n",
    "- `f4` has successfuly computed 7 more models in time (out of 49)."
   ]
  }
 ],
 "metadata": {
  "kernelspec": {
   "display_name": "Python 3",
   "language": "python",
   "name": "python3"
  },
  "language_info": {
   "codemirror_mode": {
    "name": "ipython",
    "version": 3
   },
   "file_extension": ".py",
   "mimetype": "text/x-python",
   "name": "python",
   "nbconvert_exporter": "python",
   "pygments_lexer": "ipython3",
   "version": "3.9.2"
  }
 },
 "nbformat": 4,
 "nbformat_minor": 5
}
